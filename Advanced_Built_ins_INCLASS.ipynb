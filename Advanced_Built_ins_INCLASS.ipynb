{
 "cells": [
  {
   "cell_type": "markdown",
   "metadata": {},
   "source": [
    "# Map, Filter, Reduce, Lambda & Recursion"
   ]
  },
  {
   "cell_type": "markdown",
   "metadata": {},
   "source": [
    "## Tasks Today:\n",
    "\n",
    "1) <b>Lambda Functions</b> <br>\n",
    " &nbsp;&nbsp;&nbsp;&nbsp; a) Syntax <br>\n",
    " &nbsp;&nbsp;&nbsp;&nbsp; b) Saving to a Variable <br>\n",
    " &nbsp;&nbsp;&nbsp;&nbsp; c) Multiple Inputs <br>\n",
    " &nbsp;&nbsp;&nbsp;&nbsp; d) Passing a Lambda into a Function <br>\n",
    " &nbsp;&nbsp;&nbsp;&nbsp; e) Returning a Lambda from a Function <br>\n",
    " &nbsp;&nbsp;&nbsp;&nbsp; f) In-Class Exercise #1 <br>\n",
    "2) <b>Map</b> <br>\n",
    " &nbsp;&nbsp;&nbsp;&nbsp; a) Syntax <br>\n",
    " &nbsp;&nbsp;&nbsp;&nbsp; b) Using Lambda's with Map <br>\n",
    " &nbsp;&nbsp;&nbsp;&nbsp; c) In-Class Exercise #2 <br>\n",
    "3) <b>Filter</b> <br>\n",
    " &nbsp;&nbsp;&nbsp;&nbsp; a) Syntax <br>\n",
    " &nbsp;&nbsp;&nbsp;&nbsp; b) Using Lambda's with Filter <br>\n",
    " &nbsp;&nbsp;&nbsp;&nbsp; c) In-Class Exercise #3 <br>\n",
    "4) <b>Reduce</b> <br>\n",
    " &nbsp;&nbsp;&nbsp;&nbsp; a) Syntax <br>\n",
    " &nbsp;&nbsp;&nbsp;&nbsp; b) Using Lambda's with Reduce <br>\n",
    " &nbsp;&nbsp;&nbsp;&nbsp; c) In-Class Exercise #4 <br>\n",
    "5) <b>Recursion</b> <br>\n",
    " &nbsp;&nbsp;&nbsp;&nbsp; a) Implementing a Base <br>\n",
    " &nbsp;&nbsp;&nbsp;&nbsp; b) Writing a Factorial Function <br>\n",
    " &nbsp;&nbsp;&nbsp;&nbsp; c) In-Class Exercise #5 <br>\n",
    "6) <b>Generators & Iterators</b> <br>\n",
    " &nbsp;&nbsp;&nbsp;&nbsp; a) Yield Keyword <br>\n",
    " &nbsp;&nbsp;&nbsp;&nbsp; b) Inifinite Generator <br>\n",
    " &nbsp;&nbsp;&nbsp;&nbsp; c) In-Class Exercise #6 <br>\n",
    "7) <b>Exercises</b> <br>\n",
    " &nbsp;&nbsp;&nbsp;&nbsp; a) Exercise #1 - Filtering Empty Strings <br>\n",
    " &nbsp;&nbsp;&nbsp;&nbsp; b) Exercise #2 - Sorting with Last Name <br>\n",
    " &nbsp;&nbsp;&nbsp;&nbsp; c) Exercise #3 - Conversion to Farhenheit <br>\n",
    " &nbsp;&nbsp;&nbsp;&nbsp; d) Exercise #4 - Fibonacci Sequence <br>"
   ]
  },
  {
   "cell_type": "markdown",
   "metadata": {},
   "source": [
    "## Lambda Functions <br>\n",
    "<p>Lambda functions... or \"Anonymous Functions\" are referring to inline functions with no name. The keyword lambda denotes the no name function, and executes within a single line. Without saving it to a variable; however, it is not able to be used, unless passed in either as a paramater or within list comprehension.<br>Written as \"(keyword lambda) (one or more inputs) (colon) (function to be executed)\"</p>"
   ]
  },
  {
   "cell_type": "markdown",
   "metadata": {},
   "source": [
    "#### Syntax"
   ]
  },
  {
   "cell_type": "code",
   "execution_count": 7,
   "metadata": {},
   "outputs": [
    {
     "name": "stdout",
     "output_type": "stream",
     "text": [
      "8\n",
      "10\n"
     ]
    }
   ],
   "source": [
    "def double(num):\n",
    "    return num * 2\n",
    "print(double(4))\n",
    "\n",
    "#syntax: Keywords Lambda, Variable(parameter): execution/transformation\n",
    "print((lambda num: num * 2)(5))\n",
    "\n",
    "# one-line execution is a must!"
   ]
  },
  {
   "cell_type": "markdown",
   "metadata": {},
   "source": [
    "#### Saving to a Variable"
   ]
  },
  {
   "cell_type": "code",
   "execution_count": 9,
   "metadata": {},
   "outputs": [
    {
     "name": "stdout",
     "output_type": "stream",
     "text": [
      "<function <lambda> at 0x000001A907F38790>\n",
      "120\n"
     ]
    }
   ],
   "source": [
    "lamb_test = lambda num: num * 2\n",
    "print(lamb_test)\n",
    "print(lamb_test(60))\n"
   ]
  },
  {
   "cell_type": "markdown",
   "metadata": {},
   "source": [
    "#### Multiple Inputs"
   ]
  },
  {
   "cell_type": "code",
   "execution_count": 12,
   "metadata": {},
   "outputs": [
    {
     "name": "stdout",
     "output_type": "stream",
     "text": [
      "1820\n"
     ]
    },
    {
     "data": {
      "text/plain": [
       "18330"
      ]
     },
     "execution_count": 12,
     "metadata": {},
     "output_type": "execute_result"
    }
   ],
   "source": [
    "# AKA like destructuring in terms of how it looks.\n",
    "# is actually \n",
    "\n",
    "print((lambda a, b, c : a  * b * c)(5, 14, 26))\n",
    "\n",
    "\n",
    "mult = lambda a, b, c : a  * b * c\n",
    "mult(5, 141, 26)"
   ]
  },
  {
   "cell_type": "markdown",
   "metadata": {},
   "source": [
    "#### Passing a Lambda into a Function"
   ]
  },
  {
   "cell_type": "code",
   "execution_count": 16,
   "metadata": {},
   "outputs": [
    {
     "data": {
      "text/plain": [
       "437893890380859375"
      ]
     },
     "execution_count": 16,
     "metadata": {},
     "output_type": "execute_result"
    }
   ],
   "source": [
    "# this function will take in a function!\n",
    "def mult2(func, num):\n",
    "    return func(num)\n",
    "\n",
    "mult2(lambda x: x * x, 4)\n",
    "\n",
    "mult2(lambda x: x ** x, 15)"
   ]
  },
  {
   "cell_type": "markdown",
   "metadata": {},
   "source": [
    "#### Returning a Lambda from a Function"
   ]
  },
  {
   "cell_type": "code",
   "execution_count": 23,
   "metadata": {},
   "outputs": [
    {
     "name": "stdout",
     "output_type": "stream",
     "text": [
      "<function returnFunk.<locals>.multiply at 0x000001A909A2C9D0>\n",
      "<function returnFunk.<locals>.multiply at 0x000001A909A2C700>\n",
      "<function clo_test.<locals>.<lambda> at 0x000001A907F38700>\n",
      "<function clo_test.<locals>.<lambda> at 0x000001A909A2D120>\n",
      "['Brendan']\n",
      "<function return_of_lamb.<locals>.<lambda> at 0x000001A907F38A60>\n",
      "<class 'function'>\n",
      "<function return_of_lamb.<locals>.<lambda> at 0x000001A907F38A60>\n",
      "154\n"
     ]
    }
   ],
   "source": [
    "# reg\n",
    "def mult_test(num):\n",
    "    return num * 5\n",
    "\n",
    "# function in a function:\n",
    "def returnFunk():\n",
    "    def multiply(num):\n",
    "        return num * 2\n",
    "    return multiply\n",
    "\n",
    "ret_test = returnFunk()\n",
    "print(returnFunk())\n",
    "print(ret_test)\n",
    "\n",
    "def clo_test():\n",
    "    names = []\n",
    "    s = lambda name: names.append(name)\n",
    "    t = lambda z : print(names)\n",
    "    return s, t\n",
    "\n",
    "add_name, print_info = clo_test()\n",
    "print(add_name)\n",
    "print(print_info)\n",
    "add_name('Brendan')\n",
    "print_info(';lakjsdf')\n",
    "\n",
    "#last one I promise!\n",
    "def return_of_lamb(x, y):\n",
    "    return lambda a, b: x + y + a + b\n",
    "ret_one =  return_of_lamb(78, 4)\n",
    "print(ret_one)\n",
    "print(type(ret_one))\n",
    "print(ret_one)\n",
    "print(ret_one(8, 64))\n",
    "    "
   ]
  },
  {
   "cell_type": "markdown",
   "metadata": {},
   "source": [
    "#### If Statements within Lambdas"
   ]
  },
  {
   "cell_type": "code",
   "execution_count": 24,
   "metadata": {},
   "outputs": [
    {
     "name": "stdout",
     "output_type": "stream",
     "text": [
      "25\n",
      "5\n",
      "10\n"
     ]
    }
   ],
   "source": [
    "#syntax:\n",
    "# Lambda x: True if else False\n",
    "\n",
    "cond_lamb = lambda num : num ** 2 if num < 10 else num -5\n",
    "\n",
    "print(cond_lamb(5))\n",
    "print(cond_lamb(10))\n",
    "print(cond_lamb(15))\n",
    "\n",
    "# Just in case, doubt this is useful and DO NOT pay too much attention to this\n",
    "# and just a syntax example\n",
    "# lambda x : x * 10 if x > 56 else (e **2 if x > 100 else x + 98)"
   ]
  },
  {
   "cell_type": "markdown",
   "metadata": {},
   "source": [
    "#### In-Class Exercise #1 <br>\n",
    "<p>Write an anonymous function that cubes the arguments passed in and assign the anonymous function to a variable 'f'.</p>"
   ]
  },
  {
   "cell_type": "code",
   "execution_count": 32,
   "metadata": {},
   "outputs": [
    {
     "data": {
      "text/plain": [
       "125"
      ]
     },
     "execution_count": 32,
     "metadata": {},
     "output_type": "execute_result"
    }
   ],
   "source": [
    "f = lambda num: num ** 3\n",
    "\n",
    "f(5)"
   ]
  },
  {
   "cell_type": "markdown",
   "metadata": {},
   "source": [
    "## Map <br>\n",
    "<p>The map function allows you to iterate over an entire list while running a function on each item of the list. This is why the map function works well with lambda's, because it simplifies things and you write less lines of code.<br>The syntax for a map function is \"map(function to be used, list to be used)\"<br>However, you must be careful, as the map function returns a map object, not a list. To turn it into a list we use the list() type conversion.</p>"
   ]
  },
  {
   "cell_type": "markdown",
   "metadata": {},
   "source": [
    "#### Syntax"
   ]
  },
  {
   "cell_type": "code",
   "execution_count": 42,
   "metadata": {},
   "outputs": [
    {
     "name": "stdout",
     "output_type": "stream",
     "text": [
      "[25, 7569, 441, 16, 3136, 7921, 1]\n",
      "[625, 57289761, 194481, 256, 9834496, 62742241, 1]\n",
      "625\n",
      "57289761\n",
      "194481\n",
      "256\n",
      "9834496\n",
      "62742241\n",
      "1\n",
      "<map object at 0x000001A90802FD90>\n"
     ]
    },
    {
     "data": {
      "text/plain": [
       "[16, 2916, 441, 1024, 9]"
      ]
     },
     "execution_count": 42,
     "metadata": {},
     "output_type": "execute_result"
    }
   ],
   "source": [
    "# syntax --> map(function, iterable):\n",
    "nums = [5, 87, 21, 4, 56, 89, 1]\n",
    "nums2 = [4, 54, 21, 32, 3]\n",
    "\n",
    "def square(num):\n",
    "    return num * num\n",
    "\n",
    "for n in range(len(nums)):\n",
    "    nums[n] = square(nums[n])\n",
    "print(nums)\n",
    "\n",
    "#list comp\n",
    "next_nums = [n * n for n in nums]\n",
    "print(next_nums)\n",
    "\n",
    "# time for the map func!\n",
    "\n",
    "map(square, nums2) #This is our map object\n",
    "for m in map(square, nums):\n",
    "    print(m)\n",
    "\n",
    "print(map(square, nums2))\n",
    "list(map(square, nums2))"
   ]
  },
  {
   "cell_type": "markdown",
   "metadata": {},
   "source": [
    "#### Using Lambda's with Map"
   ]
  },
  {
   "cell_type": "code",
   "execution_count": 43,
   "metadata": {},
   "outputs": [
    {
     "data": {
      "text/plain": [
       "[16, 2916, 441, 1024, 9]"
      ]
     },
     "execution_count": 43,
     "metadata": {},
     "output_type": "execute_result"
    }
   ],
   "source": [
    "list(map(lambda x: x ** 2, nums2))"
   ]
  },
  {
   "cell_type": "markdown",
   "metadata": {},
   "source": [
    "#### In-Class Exercise #2 <br>\n",
    "<p>Use the map function to double each number and minus it by one in the list by using a lambda function</p>"
   ]
  },
  {
   "cell_type": "code",
   "execution_count": 47,
   "metadata": {},
   "outputs": [
    {
     "data": {
      "text/plain": [
       "[5, 9, 11, 15]"
      ]
     },
     "execution_count": 47,
     "metadata": {},
     "output_type": "execute_result"
    }
   ],
   "source": [
    "list_of_nums = [3, 5, 6, 8]\n",
    "\n",
    "list(map(lambda x: (x * 2) - 1, list_of_nums))"
   ]
  },
  {
   "cell_type": "markdown",
   "metadata": {},
   "source": [
    "## Filter() <br>\n",
    "<p>Filter's are similar to the map function, where you're able to pass a function argument and a list argument and filter out something from the list based on the conditions passed. Similar to the map function, it returns a filter object, so you need to type convert it to a list()</p>"
   ]
  },
  {
   "cell_type": "markdown",
   "metadata": {},
   "source": [
    "#### Syntax"
   ]
  },
  {
   "cell_type": "code",
   "execution_count": 51,
   "metadata": {},
   "outputs": [
    {
     "name": "stdout",
     "output_type": "stream",
     "text": [
      "[2, 56, 1112, 24, 68]\n"
     ]
    },
    {
     "data": {
      "text/plain": [
       "['Adele', 'Ava']"
      ]
     },
     "execution_count": 51,
     "metadata": {},
     "output_type": "execute_result"
    }
   ],
   "source": [
    "# syntax --> same as map.\n",
    "# fliter(function, iterable)\n",
    "\n",
    "nums3 = [87, 21, 2, 56, 1112, 24, 68]\n",
    "\n",
    "def filter_odds(num):\n",
    "    if num % 2 == 0:\n",
    "        return True\n",
    "    return False\n",
    "\n",
    "print(list(filter(filter_odds, nums3)))\n",
    "\n",
    "# string\n",
    "\n",
    "name_list = ['Adele', 'Bill', 'Carter', 'Ava', 'Bob']\n",
    "\n",
    "def a_name(name):\n",
    "    if name[0].lower() == 'a':\n",
    "        return True\n",
    "    return False\n",
    "        \n",
    "list(filter(a_name, name_list))\n",
    "    "
   ]
  },
  {
   "cell_type": "markdown",
   "metadata": {},
   "source": [
    "\n",
    "#### Using Lambda's with Filter()"
   ]
  },
  {
   "cell_type": "code",
   "execution_count": 53,
   "metadata": {},
   "outputs": [
    {
     "data": {
      "text/plain": [
       "['Adele', 'Ava']"
      ]
     },
     "execution_count": 53,
     "metadata": {},
     "output_type": "execute_result"
    }
   ],
   "source": [
    "list(filter(lambda name: name[0].lower() == 'a', name_list))"
   ]
  },
  {
   "cell_type": "markdown",
   "metadata": {},
   "source": [
    "#### In-Class Exercise #3 <br>\n",
    "<p>Filter out all the numbers that are below the mean of the list.<br><b>Hint: Import the 'statistics' module</b></p>"
   ]
  },
  {
   "cell_type": "code",
   "execution_count": 60,
   "metadata": {},
   "outputs": [
    {
     "data": {
      "text/plain": [
       "[87, 21, 2, 56, 24, 68]"
      ]
     },
     "execution_count": 60,
     "metadata": {},
     "output_type": "execute_result"
    }
   ],
   "source": [
    "from statistics import mean\n",
    "\n",
    "nums3 = [87, 21, 2, 56, 1112, 24, 68]\n",
    "\n",
    "def filter_mean(num):\n",
    "    if num < mean(nums3):\n",
    "        return True\n",
    "    return False\n",
    "\n",
    "list(filter(filter_mean, nums3))"
   ]
  },
  {
   "cell_type": "markdown",
   "metadata": {},
   "source": [
    "## Reduce() <br>\n",
    "<p>Be very careful when using this function, as of Python 3 it's been moved to the 'functools' library and no longer is a built-in function.<br>The creator of Python himself, says to just use a for loop instead.</p>"
   ]
  },
  {
   "cell_type": "markdown",
   "metadata": {},
   "source": [
    "#### Syntax"
   ]
  },
  {
   "cell_type": "code",
   "execution_count": 64,
   "metadata": {},
   "outputs": [
    {
     "name": "stdout",
     "output_type": "stream",
     "text": [
      "1370\n",
      "1168\n"
     ]
    }
   ],
   "source": [
    "from functools import reduce\n",
    "\n",
    "#reduce(function, iterable)\n",
    "\n",
    "# Reduce was intended to aggregate all items in a list like min(), max(), sum()\n",
    "# Soooo, the function has to take 2 parameters and return 1\n",
    "\n",
    "def add_up(num, num1):\n",
    "    return num + num1\n",
    "add_results = reduce(add_up, nums3)\n",
    "print(add_results)\n",
    "\n",
    "def subs(num, num1):\n",
    "    return num1 - num\n",
    "sub_results = reduce(subs, nums3)\n",
    "print(sub_results)\n"
   ]
  },
  {
   "cell_type": "markdown",
   "metadata": {},
   "source": [
    "#### Using Lambda's with Reduce()"
   ]
  },
  {
   "cell_type": "code",
   "execution_count": 65,
   "metadata": {},
   "outputs": [
    {
     "name": "stdout",
     "output_type": "stream",
     "text": [
      "1370\n"
     ]
    }
   ],
   "source": [
    "lamb_res = reduce(lambda x, y: x + y, nums3)\n",
    "print(lamb_res)"
   ]
  },
  {
   "cell_type": "markdown",
   "metadata": {},
   "source": [
    "#### In-Class Exercise #4 <br>\n",
    "<p>Use the reduce function to multiply the numbers in the list below together with a lambda function.</p>"
   ]
  },
  {
   "cell_type": "code",
   "execution_count": null,
   "metadata": {},
   "outputs": [],
   "source": [
    "#skip"
   ]
  },
  {
   "cell_type": "markdown",
   "metadata": {},
   "source": [
    "## Recursion <br>\n",
    "<p>Recursion means that a function is calling itself, so it contanstly executes until a base case is reached. It will then push the returning values back up the chain until the function is complete. A prime example of recursion is computing factorials... such that 5! (factorial) is 5*4*3*2*1 which equals 120.</p>"
   ]
  },
  {
   "cell_type": "markdown",
   "metadata": {},
   "source": [
    "#### Implementing a Base Case"
   ]
  },
  {
   "cell_type": "code",
   "execution_count": 68,
   "metadata": {},
   "outputs": [
    {
     "data": {
      "text/plain": [
       "55"
      ]
     },
     "execution_count": 68,
     "metadata": {},
     "output_type": "execute_result"
    }
   ],
   "source": [
    "\n",
    "# def addNums(num):\n",
    "#    return  num + addNums(num + 1)\n",
    "# be careful to increment or decrement - a call here would be an infitine loop!\n",
    "\n",
    "def addNums(num):\n",
    "    if num >= 10:\n",
    "        #print('addNums(10) = 10')\n",
    "        return  num\n",
    "    else:\n",
    "        #print(f\"addNums({num}) = {num} = addNums({num + 1})\")\n",
    "        return num + addNums(num + 1)\n",
    "addNums(1)"
   ]
  },
  {
   "cell_type": "markdown",
   "metadata": {},
   "source": [
    "#### Writing a Factorial Function"
   ]
  },
  {
   "cell_type": "code",
   "execution_count": 71,
   "metadata": {},
   "outputs": [
    {
     "name": "stdout",
     "output_type": "stream",
     "text": [
      "1 5\n",
      "5 4\n",
      "20 3\n",
      "60 2\n",
      "120 1\n",
      "120\n",
      "5\n",
      "4\n",
      "3\n",
      "2\n",
      "reached base case\n",
      "120\n"
     ]
    }
   ],
   "source": [
    "#while loop version first\n",
    "def  factor(num):\n",
    "    count = 1\n",
    "    while num >=1:\n",
    "        print(count, num)\n",
    "        count = num * count\n",
    "        num -= 1\n",
    "    return count\n",
    "print(factor(5))\n",
    "\n",
    "def factor2(num):\n",
    "    if num <= 1:\n",
    "        print('reached base case')\n",
    "        return 1\n",
    "    else:\n",
    "        print(num)\n",
    "        return num * factor2(num - 1)\n",
    "    \n",
    "print(factor2(5))"
   ]
  },
  {
   "cell_type": "markdown",
   "metadata": {},
   "source": [
    "#### In-Class Exercise #5 <br>\n",
    "<p>Write a recursive function that subtracts all numbers to the argument given.</p>"
   ]
  },
  {
   "cell_type": "code",
   "execution_count": 9,
   "metadata": {},
   "outputs": [
    {
     "name": "stdout",
     "output_type": "stream",
     "text": [
      "subNums(5) = 5 - subNums(4)\n",
      "subNums(4) = 4 - subNums(3)\n",
      "subNums(3) = 3 - subNums(2)\n",
      "subNums(2) = 2 - subNums(1)\n",
      "subNums(1) = 1\n"
     ]
    },
    {
     "data": {
      "text/plain": [
       "3"
      ]
     },
     "execution_count": 9,
     "metadata": {},
     "output_type": "execute_result"
    }
   ],
   "source": [
    "def subNums(num):\n",
    "    if num <= 1:\n",
    "        print('subNums(1) = 1')\n",
    "        return  num\n",
    "    else:\n",
    "        print(f\"subNums({num}) = {num} - subNums({num - 1})\")\n",
    "        return num - subNums(num - 1)\n",
    "subNums(5)"
   ]
  },
  {
   "cell_type": "markdown",
   "metadata": {},
   "source": [
    "## Generators <br>\n",
    "<p>Generators are a type of iterable, like lists or tuples. They do not allow indexing, but they can still be iterated through with for loops. They are created using functions and the yield statement.</p>"
   ]
  },
  {
   "cell_type": "markdown",
   "metadata": {},
   "source": [
    "#### Yield Keyword <br>\n",
    "<p>The yield keyword denotes a generator, it doesn't return so it won't leave the function and reset all variables in the function scope, instead it yields the number back to the caller.</p>"
   ]
  },
  {
   "cell_type": "code",
   "execution_count": 14,
   "metadata": {},
   "outputs": [
    {
     "name": "stdout",
     "output_type": "stream",
     "text": [
      "range(1, 11)\n",
      "<class 'range'>\n",
      "[1, 2, 3, 4, 5, 6, 7, 8, 9, 10]\n",
      "3\n"
     ]
    }
   ],
   "source": [
    "# yield is kinda like return, but keep returning. . .\n",
    "\n",
    "range(1,11)\n",
    "print(range(1,11))\n",
    "print(type(range(1,11)))\n",
    "print(list(range(1,11)))\n",
    "#indexing example\n",
    "print(range(1,11)[2])\n",
    "\n",
    "# the only data stored for a generator is the formula to run when it's called on"
   ]
  },
  {
   "cell_type": "code",
   "execution_count": null,
   "metadata": {},
   "outputs": [],
   "source": [
    "def my_range(start, stop, step):\n",
    "    while start < stop:\n",
    "        yield start\n",
    "        start += step\n",
    "        \n",
    "print(list(my_range(0, 10, 2)))\n",
    "\n",
    "for x in my_range(0, 10, 2):\n",
    "    print(x)"
   ]
  },
  {
   "cell_type": "markdown",
   "metadata": {},
   "source": [
    "#### Infinite Generator"
   ]
  },
  {
   "cell_type": "code",
   "execution_count": null,
   "metadata": {},
   "outputs": [],
   "source": [
    "# bad, never create infinite loops"
   ]
  },
  {
   "cell_type": "markdown",
   "metadata": {},
   "source": [
    "#### In-Class Exercise #6 <br>\n",
    "<p>Create a generator that takes a number argument and yields that number squared, then prints each number squared until zero is reached.</p>"
   ]
  },
  {
   "cell_type": "code",
   "execution_count": 24,
   "metadata": {},
   "outputs": [
    {
     "name": "stdout",
     "output_type": "stream",
     "text": [
      "100\n",
      "81\n",
      "64\n",
      "49\n",
      "36\n",
      "25\n",
      "16\n",
      "9\n",
      "4\n",
      "1\n",
      "0\n"
     ]
    }
   ],
   "source": [
    "def new_squares(nums):\n",
    "    while nums >= 0:\n",
    "        yield nums ** 2\n",
    "        nums -= 1\n",
    "for s in new_squares(10):\n",
    "    print(s)"
   ]
  },
  {
   "cell_type": "markdown",
   "metadata": {},
   "source": [
    "# Exercises"
   ]
  },
  {
   "cell_type": "markdown",
   "metadata": {},
   "source": [
    "### Exercise #1 <br>\n",
    "<p>Filter out all of the empty strings from the list below</p>\n",
    "\n",
    "`Output: ['Argentina', 'San Diego', 'Boston', 'New York']`"
   ]
  },
  {
   "cell_type": "code",
   "execution_count": 144,
   "metadata": {},
   "outputs": [
    {
     "name": "stdout",
     "output_type": "stream",
     "text": [
      "['Argentina', 'San Diego', 'Boston', 'New York']\n"
     ]
    }
   ],
   "source": [
    "places = [\" \",\"Argentina\", \" \", \"San Diego\",\"\",\"  \",\"\",\"Boston\",\"New York\"]\n",
    "\n",
    "def filter_empty(place):\n",
    "    if place.strip() == '':\n",
    "        return False\n",
    "    return True\n",
    "\n",
    "print(list(filter(filter_empty, places)))"
   ]
  },
  {
   "cell_type": "markdown",
   "metadata": {},
   "source": [
    "### Exercise #2 <br>\n",
    "<p>Write an anonymous function that sorts this list by the last name...<br><b>Hint: Use the \".sort()\" method and access the key\"</b></p>\n",
    "\n",
    "`Output: ['Victor aNisimov', 'Gary A.J. Bernstein', 'Joel Carter', 'Andrew P. Garfield', 'David hassELHOFF']`"
   ]
  },
  {
   "cell_type": "code",
   "execution_count": 142,
   "metadata": {},
   "outputs": [
    {
     "name": "stdout",
     "output_type": "stream",
     "text": [
      "['Victor aNisimov', 'Gary A.J. Bernstein', 'Joel Carter', 'Andrew P. Garfield', 'David hassELHOFF']\n"
     ]
    }
   ],
   "source": [
    "author = [\"Joel Carter\", \"Victor aNisimov\", \"Andrew P. Garfield\",\"David hassELHOFF\",\"Gary A.J. Bernstein\"]\n",
    "\n",
    "author.sort(key = lambda x: x.split()[-1].lower())\n",
    "print(author)"
   ]
  },
  {
   "cell_type": "markdown",
   "metadata": {},
   "source": [
    "### Exercise #3 <br>\n",
    "<p>Convert the list below from Celsius to Farhenheit, using the map function with a lambda...</p>\n",
    "\n",
    "`Output: [('Nashua', 89.6), ('Boston', 53.6), ('Los Angelos', 111.2), ('Miami', 84.2)]\n",
    "`"
   ]
  },
  {
   "cell_type": "code",
   "execution_count": 140,
   "metadata": {},
   "outputs": [
    {
     "data": {
      "text/plain": [
       "[('Nashua', 89.6), ('Boston', 53.6), ('Los Angelos', 111.2), ('Miami', 84.2)]"
      ]
     },
     "execution_count": 140,
     "metadata": {},
     "output_type": "execute_result"
    }
   ],
   "source": [
    "# F = (9/5)*C + 32\n",
    "places = [('Nashua',32),(\"Boston\",12),(\"Los Angelos\",44),(\"Miami\",29)]\n",
    "\n",
    "list(map(lambda x: (x[0], (9/5) * x[1] + 32), places))"
   ]
  },
  {
   "cell_type": "markdown",
   "metadata": {},
   "source": [
    "### Exercise #4 <br>\n",
    "<p>Write a recursion function to perform the fibonacci sequence up to the number passed in.</p>\n",
    "\n",
    "`Output for fib(5) => \n",
    "Iteration 0: 1\n",
    "Iteration 1: 1\n",
    "Iteration 2: 2\n",
    "Iteration 3: 3\n",
    "Iteration 4: 5\n",
    "Iteration 5: 8`"
   ]
  },
  {
   "cell_type": "code",
   "execution_count": 214,
   "metadata": {
    "scrolled": true
   },
   "outputs": [
    {
     "name": "stdout",
     "output_type": "stream",
     "text": [
      "Iteration 0: 1\n",
      "Iteration 1: 1\n",
      "Iteration 2: 2\n",
      "Iteration 3: 3\n",
      "Iteration 4: 5\n",
      "Iteration 5: 8\n"
     ]
    }
   ],
   "source": [
    "def sequence(num):\n",
    "    if num < 2:\n",
    "        return 1\n",
    "    else:\n",
    "        return sequence(num - 2) + sequence(num - 1)\n",
    "\n",
    "def fib(iteration):\n",
    "    for x in range(iteration + 1):\n",
    "        print(f\"Iteration {x}: {sequence(x)}\")\n",
    "        \n",
    "fib(5)"
   ]
  },
  {
   "cell_type": "code",
   "execution_count": null,
   "metadata": {},
   "outputs": [],
   "source": []
  }
 ],
 "metadata": {
  "kernelspec": {
   "display_name": "Python 3 (ipykernel)",
   "language": "python",
   "name": "python3"
  },
  "language_info": {
   "codemirror_mode": {
    "name": "ipython",
    "version": 3
   },
   "file_extension": ".py",
   "mimetype": "text/x-python",
   "name": "python",
   "nbconvert_exporter": "python",
   "pygments_lexer": "ipython3",
   "version": "3.10.9"
  }
 },
 "nbformat": 4,
 "nbformat_minor": 2
}
